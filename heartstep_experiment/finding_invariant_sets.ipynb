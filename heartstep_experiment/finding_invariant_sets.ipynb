{
 "cells": [
  {
   "cell_type": "code",
   "execution_count": 1,
   "id": "591dbce1",
   "metadata": {
    "ExecuteTime": {
     "end_time": "2023-07-18T09:33:06.982088Z",
     "start_time": "2023-07-18T09:33:04.799677Z"
    }
   },
   "outputs": [],
   "source": [
    "import sys\n",
    "from pathlib import Path\n",
    "\n",
    "import numpy as np\n",
    "import pandas as pd\n",
    "sys.path.append(str(Path.cwd().parent))\n",
    "from method import InvariantSearch, DirectICP\n",
    "from utils import create_subset\n",
    "from dataprep import get_activity, pre_process\n",
    "import seaborn as sns\n",
    "import matplotlib.pyplot as plt"
   ]
  },
  {
   "cell_type": "code",
   "execution_count": 2,
   "id": "97ead711",
   "metadata": {
    "ExecuteTime": {
     "end_time": "2023-07-18T09:33:07.111557Z",
     "start_time": "2023-07-18T09:33:06.982620Z"
    }
   },
   "outputs": [],
   "source": [
    "%load_ext autoreload\n",
    "%autoreload 2\n",
    "%matplotlib inline"
   ]
  },
  {
   "cell_type": "code",
   "execution_count": 3,
   "id": "a977990e",
   "metadata": {
    "ExecuteTime": {
     "end_time": "2023-07-18T09:33:07.122502Z",
     "start_time": "2023-07-18T09:33:07.089049Z"
    }
   },
   "outputs": [],
   "source": [
    "np.random.seed(1)\n",
    "# set parameters\n",
    "a_label = 'send'\n",
    "e_label = 'user'\n",
    "y_label = 'y'\n",
    "min_size = 1"
   ]
  },
  {
   "cell_type": "code",
   "execution_count": 4,
   "id": "f1d7d79f",
   "metadata": {
    "ExecuteTime": {
     "end_time": "2023-07-18T09:33:07.157330Z",
     "start_time": "2023-07-18T09:33:07.123092Z"
    }
   },
   "outputs": [],
   "source": [
    "# the lists of features\n",
    "activity_feature = ['C(decision_bucket)', 'location', 'variation_indicator', 'engagement']\n",
    "interaction = activity_feature\n",
    "control_feature = ['square_root_yesterday', 'temperature', 'pre_treatment_steps']\n",
    "main_effect =  activity_feature + control_feature\n",
    "\n",
    "# create all candidate subsets\n",
    "candidate_sets = create_subset(interaction, min_size=min_size)\n",
    "# create all candidate subsets for direct icp\n",
    "mapping = {\"C(decision_bucket)\":[0, 1, 2],\n",
    "          \"location\":[3,4],\n",
    "          \"variation_indicator\":[5],\n",
    "          \"engagement\":[6],\n",
    "          \"dosage\":[7]}\n",
    "candidate_sets_direct = {s:np.concatenate([mapping[x] for x in s]) for s in candidate_sets}"
   ]
  },
  {
   "cell_type": "code",
   "execution_count": 5,
   "id": "fa520424",
   "metadata": {
    "ExecuteTime": {
     "end_time": "2023-07-18T09:33:09.169193Z",
     "start_time": "2023-07-18T09:33:07.157507Z"
    }
   },
   "outputs": [],
   "source": [
    "# get the data\n",
    "activity_df = get_activity()\n",
    "\n",
    "# preprocess data\n",
    "all_df = pre_process(activity_df, a_label, e_label)"
   ]
  },
  {
   "cell_type": "code",
   "execution_count": 6,
   "id": "95ce2c27",
   "metadata": {
    "ExecuteTime": {
     "end_time": "2023-07-18T09:33:14.167294Z",
     "start_time": "2023-07-18T09:33:09.169425Z"
    }
   },
   "outputs": [],
   "source": [
    "directICP = DirectICP(interaction=interaction, y_label=y_label)\n",
    "effectICP = InvariantSearch(activity_feature, control_feature, y_label=y_label)\n",
    "\n",
    "full_inv = directICP.invariant_search(all_df, candidate_sets_direct)\n",
    "effect_inv = effectICP.invariant_search(all_df, candidate_sets, method='effect')"
   ]
  },
  {
   "cell_type": "code",
   "execution_count": 7,
   "id": "af4142c4",
   "metadata": {
    "ExecuteTime": {
     "end_time": "2023-07-18T09:33:14.210999Z",
     "start_time": "2023-07-18T09:33:14.163735Z"
    }
   },
   "outputs": [],
   "source": [
    "# add method ind\n",
    "full_inv['test'] = 'Full-invariance'\n",
    "effect_inv['test'] = 'e-invariance'\n",
    "\n",
    "pval_df = pd.concat([full_inv, effect_inv], ignore_index=True)\n",
    "pval_df['engagement'] = pval_df.set.str.contains(\"engagement\")"
   ]
  },
  {
   "cell_type": "code",
   "execution_count": 8,
   "id": "976b2174",
   "metadata": {
    "ExecuteTime": {
     "end_time": "2023-07-18T09:33:14.791742Z",
     "start_time": "2023-07-18T09:33:14.210122Z"
    }
   },
   "outputs": [
    {
     "data": {
      "text/plain": "<Figure size 485.917x300 with 1 Axes>",
      "image/png": "[encoded data removed]"
     },
     "metadata": {},
     "output_type": "display_data"
    }
   ],
   "source": [
    "sns.set(font_scale=1.2, style='white', palette=sns.set_palette(\"tab10\"))\n",
    "\n",
    "g = sns.catplot(data=pval_df, x=\"test\", y=\"pval\", hue=\"engagement\", kind='swarm', \n",
    "                dodge=False, size=6, height=3, aspect=1.2)\n",
    "\n",
    "ax=g.ax\n",
    "\n",
    "# dummy plots, just to get the Path objects\n",
    "a = ax.scatter([1,1],[1,1], marker='o')\n",
    "b = ax.scatter([1,1],[1,1], marker='^')\n",
    "circle_mk, = a.get_paths()\n",
    "triangle_up_mk, = b.get_paths()\n",
    "a.remove()\n",
    "b.remove()\n",
    "\n",
    "collections = ax.collections\n",
    "unique_colors = np.unique(collections[0].get_facecolors(), axis=0)\n",
    "markers = [triangle_up_mk, circle_mk]\n",
    "for collection in collections:\n",
    "    paths = []\n",
    "    for current_color in collection.get_facecolors():\n",
    "        for possible_marker,possible_color in zip(markers, unique_colors):\n",
    "            if np.array_equal(current_color, possible_color):\n",
    "                paths.append(possible_marker)\n",
    "                break\n",
    "    collection.set_paths(paths)\n",
    "    \n",
    "g.axes[0][0].set_yscale('log')\n",
    "g.axes[0][0].set_ylabel(\"log(p-value)\")\n",
    "g.axes[0][0].set_xlabel(\"\")\n",
    "g._legend.remove()\n",
    "\n",
    "l1 = plt.legend(collections[-2:], pd.unique(pval_df.engagement))  \n",
    "l1.set_bbox_to_anchor([0.95, 0.85])\n",
    "l1.set_title(\"Contain AE?\")\n",
    "\n",
    "\n",
    "p1 = plt.axhline(0.05, ls='--', color='black', label='5% level', linewidth=0.85, alpha=0.7)\n",
    "plt.legend([p1], [\"5% level\"], bbox_to_anchor=(0.95, 0.4))\n",
    "g.ax.add_artist(l1)\n",
    "\n",
    "plt.savefig('invariant_test.pdf', bbox_inches='tight')"
   ]
  }
 ],
 "metadata": {
  "kernelspec": {
   "display_name": "Python 3 (ipykernel)",
   "language": "python",
   "name": "python3"
  },
  "language_info": {
   "codemirror_mode": {
    "name": "ipython",
    "version": 3
   },
   "file_extension": ".py",
   "mimetype": "text/x-python",
   "name": "python",
   "nbconvert_exporter": "python",
   "pygments_lexer": "ipython3",
   "version": "3.8.2"
  }
 },
 "nbformat": 4,
 "nbformat_minor": 5
}
